{
 "cells": [
  {
   "cell_type": "markdown",
   "metadata": {},
   "source": [
    "# Introduction/Business Problem"
   ]
  },
  {
   "cell_type": "markdown",
   "metadata": {},
   "source": [
    "Shanghai is one of the four municipalities of the People's Republic of China. It is located on the southern estuary of the Yangtze, with the Huangpu River flowing through it. Shanghai is one of the four direct-controlled municipalities of People's Republic of China, and is further divided into 16 districts. With a population of 24.2 million as of 2018, it is the most populous urban area in China and the second most populous city proper in the world. Shanghai is a global center for finance, innovation and transportation and the Port of Shanghai is the world's busiest container port."
   ]
  },
  {
   "cell_type": "markdown",
   "metadata": {},
   "source": [
    "![alt text](https://images.chinahighlights.com/allpicture/2015/04/08e43a195f254a998b5032b8_558x373.jpg \"shanghai location map\")"
   ]
  },
  {
   "cell_type": "markdown",
   "metadata": {},
   "source": [
    "Shanghai has recently seen a generous increase of business opportunities. The populous city is one of the fastest developing cities in the world; in the last two decades, Shanghai has experienced economic growth thanks to a boost in business opportunities for locals and foreigners. The consistent financial growth of the city makes Shanghai the ideal place to establish a business and for entrepreneurs to develop their business ideals in a city that is fruitful and shows consistent development."
   ]
  },
  {
   "cell_type": "markdown",
   "metadata": {},
   "source": [
    "This project helps the investors who want to open the grocery store in Shanghai, but can not decide the location. \n",
    "\n",
    "Choosing a location for business is all about setting your business up for success. It’s about being somewhere your customers will see you, about being in a competitive location, about staying within budget, and about meeting local and state regulations and laws. In this project, I will focus on geographies and competition factors to offer the investors advice on where to look for a business location"
   ]
  },
  {
   "cell_type": "markdown",
   "metadata": {},
   "source": [
    "I will collect the venue data through Foursquare API, and analyze the most common venue based on the data coleected. I will colloect other inforamtion, such as the geography data, population data from online open resoures."
   ]
  }
 ],
 "metadata": {
  "kernelspec": {
   "display_name": "Python",
   "language": "python",
   "name": "conda-env-python-py"
  },
  "language_info": {
   "codemirror_mode": {
    "name": "ipython",
    "version": 3
   },
   "file_extension": ".py",
   "mimetype": "text/x-python",
   "name": "python",
   "nbconvert_exporter": "python",
   "pygments_lexer": "ipython3",
   "version": "3.6.7"
  }
 },
 "nbformat": 4,
 "nbformat_minor": 4
}
